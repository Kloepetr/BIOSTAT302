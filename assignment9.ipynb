{
 "cells": [
  {
   "cell_type": "code",
   "execution_count": 5,
   "id": "b67c61bf",
   "metadata": {},
   "outputs": [
    {
     "name": "stdout",
     "output_type": "stream",
     "text": [
      "95% Confidence Interval: (0.355, 0.712)\n"
     ]
    }
   ],
   "source": [
    "#6.\n",
    "import math\n",
    "\n",
    "# Sample data\n",
    "X = 16  \n",
    "n = 30  \n",
    "p_hat = X / n\n",
    "SE = math.sqrt((p_hat * (1 - p_hat)) / n)\n",
    "\n",
    "z= 1.96\n",
    "\n",
    "ME = z * SE\n",
    "\n",
    "CI_lower = p_hat - ME\n",
    "CI_upper = p_hat + ME\n",
    "\n",
    "print(f\"95% Confidence Interval: ({CI_lower:.3f}, {CI_upper:.3f})\")\n"
   ]
  },
  {
   "cell_type": "code",
   "execution_count": null,
   "id": "4eb95b1b",
   "metadata": {},
   "outputs": [
    {
     "name": "stdout",
     "output_type": "stream",
     "text": [
      "Chi: 1.818\n",
      "P: 0.611\n",
      "Df: 3\n"
     ]
    }
   ],
   "source": [
    "#9\n",
    "import numpy as np\n",
    "import pandas as pd\n",
    "from scipy.stats import chi2_contingency\n",
    "\n",
    "data = {\n",
    "    \"Penny\": [19, 11],\n",
    "    \"Nickel\": [14, 16],\n",
    "    \"Dime\": [6, 4],\n",
    "    \"Quarter\": [16, 14]\n",
    "}\n",
    "\n",
    "# Create a DataFrame\n",
    "df = pd.DataFrame(data, index=[\"Head\", \"Tail\"])\n",
    "\n",
    "# Perform the chi-square test\n",
    "chi2, p, dof, expected = chi2_contingency(df)\n",
    "\n",
    "# Print the results\n",
    "print(f\"Chi: {chi2:.3f}\")\n",
    "print(f\"P: {p:.3f}\")\n",
    "print(f\"Df: {dof}\")\n",
    "\n"
   ]
  },
  {
   "cell_type": "code",
   "execution_count": null,
   "id": "a1aeb30d",
   "metadata": {},
   "outputs": [
    {
     "name": "stdout",
     "output_type": "stream",
     "text": [
      "95% Confidence Interval: (0.662, 0.718)\n",
      "Test Statistic (z): -7.948\n",
      "P-value: 0.000\n"
     ]
    }
   ],
   "source": [
    "#10\n",
    "n = 1048 \n",
    "p_hat = 0.69  \n",
    "SE = math.sqrt((p_hat * (1 - p_hat)) / n)\n",
    "\n",
    "ME = z * SE\n",
    "CI_lower = p_hat - ME\n",
    "CI_upper = p_hat + ME\n",
    "\n",
    "p0 = 0.79  # Null hypothesis proportion\n",
    "SE_null = math.sqrt((p0 * (1 - p0)) / n)\n",
    "z = (p_hat - p0) / SE_null\n",
    "p_value = norm.cdf(z)\n",
    "alpha = 0.05\n",
    "\n",
    "print(f\"95% Confidence Interval: ({CI_lower:.3f}, {CI_upper:.3f})\")\n",
    "print(f\"Test Statistic (z): {z:.3f}\")\n",
    "print(f\"P-value: {p_value:.3f}\")\n"
   ]
  },
  {
   "cell_type": "code",
   "execution_count": 19,
   "id": "9bd73877",
   "metadata": {},
   "outputs": [
    {
     "name": "stdout",
     "output_type": "stream",
     "text": [
      "The required sample size for a margin of error of 0.1 with 95% confidence is 73.\n"
     ]
    }
   ],
   "source": [
    "#11\n",
    "p_hat = 0.25\n",
    "ME = 0.1\n",
    "z= 1.96\n",
    "n = (z**2 * p_hat * (1 - p_hat)) / ME**2\n",
    "sample_size = math.ceil(n)\n",
    "\n",
    "print(f\"The required sample size for a margin of error of {ME} with 95% confidence is {sample_size}.\")\n"
   ]
  },
  {
   "cell_type": "code",
   "execution_count": 21,
   "id": "d5e4c791",
   "metadata": {},
   "outputs": [
    {
     "name": "stdout",
     "output_type": "stream",
     "text": [
      "95% Confidence Interval: (0.145, 0.255)\n",
      "1537\n"
     ]
    }
   ],
   "source": [
    "#12\n",
    "n = 200  \n",
    "X = 40 \n",
    "p_hat = X / n  # Sample proportion\n",
    "SE = math.sqrt((p_hat * (1 - p_hat)) / n)\n",
    "z = 1.96\n",
    "ME = z * SE\n",
    "CI_lower = p_hat - ME\n",
    "CI_upper = p_hat + ME\n",
    "\n",
    "print(f\"95% Confidence Interval: ({CI_lower:.3f}, {CI_upper:.3f})\")\n",
    "\n",
    "\n",
    "p_hat = 0.2  \n",
    "desired_ME = 0.02 \n",
    "required_n = (z**2 * p_hat * (1 - p_hat)) / desired_ME**2\n",
    "\n",
    "required_sample_size = math.ceil(required_n)\n",
    "\n",
    "print(required_sample_size)\n",
    "\n"
   ]
  },
  {
   "cell_type": "code",
   "execution_count": null,
   "id": "45f2e8de",
   "metadata": {},
   "outputs": [
    {
     "name": "stdout",
     "output_type": "stream",
     "text": [
      "Chi: 7.353\n",
      "P: 0.007\n",
      "df: 1\n"
     ]
    }
   ],
   "source": [
    "#13\n",
    "data = {\n",
    "    \"Nevaripine\": [26, 94],\n",
    "    \"Lopinavir\": [10, 110]\n",
    "}\n",
    "\n",
    "df = pd.DataFrame(data, index=[\"has virologic Failure \", \"no Virologic Failure\"])\n",
    "\n",
    "chi2, p, dof, expected = chi2_contingency(df)\n",
    "\n",
    "# Print the results\n",
    "print(f\"Chi: {chi2:.3f}\")\n",
    "print(f\"P: {p:.3f}\")\n",
    "print(f\"df: {dof}\")\n",
    "\n",
    "\n",
    "\n"
   ]
  },
  {
   "cell_type": "code",
   "execution_count": 23,
   "id": "d9dfe7ff",
   "metadata": {},
   "outputs": [
    {
     "name": "stdout",
     "output_type": "stream",
     "text": [
      "Chi: 8.313\n",
      "P: 0.004\n",
      "Df: 1\n"
     ]
    }
   ],
   "source": [
    "#14\n",
    "\n",
    "data = {\n",
    "    \"Autism\": [111, 143],\n",
    "    \"Typical development\": [70, 159]\n",
    "}\n",
    "df = pd.DataFrame(data, index=[\"No vitamin\", \"Prenatal vitamin\"])\n",
    "\n",
    "# Perform the chi-square test\n",
    "chi2, p, dof, expected = chi2_contingency(df)\n",
    "print(f\"Chi: {chi2:.3f}\")\n",
    "print(f\"P: {p:.3f}\")\n",
    "print(f\"Df: {dof}\")\n",
    "\n"
   ]
  }
 ],
 "metadata": {
  "kernelspec": {
   "display_name": ".venv",
   "language": "python",
   "name": "python3"
  },
  "language_info": {
   "codemirror_mode": {
    "name": "ipython",
    "version": 3
   },
   "file_extension": ".py",
   "mimetype": "text/x-python",
   "name": "python",
   "nbconvert_exporter": "python",
   "pygments_lexer": "ipython3",
   "version": "3.12.1"
  }
 },
 "nbformat": 4,
 "nbformat_minor": 5
}
