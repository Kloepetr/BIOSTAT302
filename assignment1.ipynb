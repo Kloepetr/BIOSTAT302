{
 "cells": [
  {
   "cell_type": "code",
   "execution_count": 1,
   "metadata": {},
   "outputs": [
    {
     "name": "stdout",
     "output_type": "stream",
     "text": [
      "   FirstName         School\n",
      "5     Staci         Nursing\n",
      "16    Justin    Informatics\n",
      "7      Adam     Informatics\n",
      "12     Kevin       Medicine\n",
      "11    Casey       Dentistry\n",
      "3    Breanne    Engineering\n",
      "6      John        Medicine\n",
      "17   Lindsey        Nursing\n",
      "21     Tawny       Medicine\n",
      "10    Katie   Public Health\n"
     ]
    }
   ],
   "source": [
    "import pandas as pd;\n",
    "import numpy as np;\n",
    "students = pd.read_csv('Lab1Data.csv')\n",
    "sample = students.sample(10, replace = False);\n",
    "print(sample)"
   ]
  },
  {
   "cell_type": "code",
   "execution_count": 3,
   "metadata": {},
   "outputs": [
    {
     "name": "stdout",
     "output_type": "stream",
     "text": [
      "   FirstName         School\n",
      "15    Rebeka  Public Health\n",
      "6      John        Medicine\n",
      "11    Casey       Dentistry\n",
      "7      Adam     Informatics\n",
      "22     Craig  Public Health\n"
     ]
    }
   ],
   "source": [
    "students = pd.read_csv('Lab1Data.csv')\n",
    "sample = students.sample(5, replace = False);\n",
    "print(sample)"
   ]
  }
 ],
 "metadata": {
  "kernelspec": {
   "display_name": "Python 3",
   "language": "python",
   "name": "python3"
  },
  "language_info": {
   "codemirror_mode": {
    "name": "ipython",
    "version": 3
   },
   "file_extension": ".py",
   "mimetype": "text/x-python",
   "name": "python",
   "nbconvert_exporter": "python",
   "pygments_lexer": "ipython3",
   "version": "3.12.1"
  }
 },
 "nbformat": 4,
 "nbformat_minor": 2
}
