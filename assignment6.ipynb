{
 "cells": [
  {
   "cell_type": "code",
   "execution_count": 9,
   "metadata": {},
   "outputs": [
    {
     "name": "stdout",
     "output_type": "stream",
     "text": [
      "2.5214285714285714\n",
      "0.042716220791328974\n",
      "1.788063723620879 3.2547934192362638\n"
     ]
    }
   ],
   "source": [
    "#1.a sample mean\n",
    "from scipy.stats import norm\n",
    "import statistics\n",
    "sample = [2.9, 2.6, 2.9, 2.6, 2.4, 2.0, 2.3, 2.2, 2.5, 2.3, 2.8, 2.5, 2.7, 2.6]\n",
    "mean = statistics.mean(sample)\n",
    "\n",
    "print(mean)\n",
    "\n",
    "#1.b\n",
    "z_score = 1.72\n",
    "z_probability = 1 - norm.cdf(z_score, 0, 1)\n",
    "print(z_probability)\n",
    "\n",
    "#1.c\n",
    "n = 14\n",
    "std_dev = 1.4\n",
    "confidence_score = 1.96\n",
    "upper_interval = mean + confidence_score *(std_dev/n**0.5)\n",
    "lower_interval = mean - confidence_score *(std_dev/n**0.5)\n",
    "\n",
    "print(lower_interval, upper_interval)\n"
   ]
  },
  {
   "cell_type": "code",
   "execution_count": null,
   "metadata": {},
   "outputs": [
    {
     "data": {
      "image/png": "[encoded data removed]",
      "text/plain": [
       "<Figure size 640x480 with 1 Axes>"
      ]
     },
     "metadata": {},
     "output_type": "display_data"
    }
   ],
   "source": [
    "\n",
    "#3\n",
    "import matplotlib.pyplot as plt\n",
    "\n",
    "airline = [2.9, 2.6, 2.9, 2.6, 2.4, 2.0, 2.3, 2.2, 2.5, 2.3, 2.8, 2.5, 2.7, 2.6]\n",
    "plt.hist(airline)\n",
    "plt.title(\"Histogram of pilot error in judge distance\")\n",
    "plt.show()"
   ]
  },
  {
   "cell_type": "code",
   "execution_count": null,
   "metadata": {},
   "outputs": [
    {
     "data": {
      "text/plain": [
       "Text(0.5, 1.0, 'Histogram of number of fb friend ')"
      ]
     },
     "execution_count": 20,
     "metadata": {},
     "output_type": "execute_result"
    },
    {
     "data": {
      "image/png": "[encoded data removed]",
      "text/plain": [
       "<Figure size 640x480 with 1 Axes>"
      ]
     },
     "metadata": {},
     "output_type": "display_data"
    }
   ],
   "source": [
    "#4\n",
    "import matplotlib.pyplot as plt\n",
    "import pandas as pd\n",
    "\n",
    "friend = pd.read_csv(\"FACEBOOKFRIENDS.csv\")\n",
    "data =friend['friends'].dropna();\n",
    "plt.hist(data)\n",
    "plt.title(\"Histogram of number of fb friend \")\n",
    "\n"
   ]
  },
  {
   "cell_type": "code",
   "execution_count": 28,
   "metadata": {},
   "outputs": [
    {
     "name": "stdout",
     "output_type": "stream",
     "text": [
      "119.06666666666666\n",
      "29.566912230575834\n",
      "5.398154928153924\n",
      "9.171465222933518\n",
      "128.23813188960017 109.89520144373314\n"
     ]
    }
   ],
   "source": [
    "#4.2-4.4\n",
    "n = 30\n",
    "mean_value = data.mean()\n",
    "print(mean_value)\n",
    "std_dev = data.std()\n",
    "print(std_dev)\n",
    "std_error = std_dev / (n**0.5)\n",
    "print(std_error)\n",
    "margin_of_error = 1.699 * std_error\n",
    "print(margin_of_error)\n",
    "upper_bound = mean_value + margin_of_error\n",
    "lower_bound = mean_value - margin_of_error\n",
    "\n",
    "print(upper_bound, lower_bound)\n",
    "\n"
   ]
  },
  {
   "cell_type": "code",
   "execution_count": 48,
   "metadata": {},
   "outputs": [
    {
     "name": "stdout",
     "output_type": "stream",
     "text": [
      "4.731249999999999\n",
      "1.745744826714374\n",
      "0.4364362066785935\n",
      "0.7415051151469304\n",
      "5.47275511514693 3.989744884853069\n",
      "0.0016734014500732197\n"
     ]
    }
   ],
   "source": [
    "#5 \n",
    "n = 16\n",
    "weight_data = pd.read_csv(\"WEIGHTGAIN.csv\")\n",
    "data = weight_data['wt_gain'].dropna()\n",
    "mean_weight = data.mean()\n",
    "std_dev = data.std()\n",
    "print( mean_weight)\n",
    "print( std_dev)\n",
    "\n",
    "std_error = std_dev / n **0.5\n",
    "print(std_error)\n",
    "margin_of_error = 1.699 * std_error\n",
    "print(margin_of_error)\n",
    "\n",
    "upper_bound = mean_weight + margin_of_error\n",
    "lower_bound = mean_weight - margin_of_error\n",
    "\n",
    "print(upper_bound, lower_bound)\n",
    "\n",
    "t_statistic = -3.82\n",
    "n = 16\n",
    "df = n - 1\n",
    "p_value = 2 * (1 - t.cdf(abs(t_statistic), df))\n",
    "\n",
    "print(p_value)"
   ]
  },
  {
   "cell_type": "code",
   "execution_count": 49,
   "metadata": {},
   "outputs": [
    {
     "name": "stdout",
     "output_type": "stream",
     "text": [
      "0.13351418086879585\n"
     ]
    }
   ],
   "source": [
    "#6\n",
    "from scipy.stats import t\n",
    "t_statistic = 1.52\n",
    "n = 32\n",
    "df = 63\n",
    "p_value = 2 * (1 - t.cdf(abs(t_statistic), df))\n",
    "\n",
    "print(p_value)"
   ]
  },
  {
   "cell_type": "code",
   "execution_count": 55,
   "metadata": {},
   "outputs": [
    {
     "name": "stdout",
     "output_type": "stream",
     "text": [
      "2.397347679430542 2.6455094634266016\n"
     ]
    }
   ],
   "source": [
    "#7\n",
    "import numpy as np\n",
    "\n",
    "sample = [2.9, 2.6, 2.9, 2.6, 2.4, 2.0, 2.3, 2.2, 2.5, 2.3, 2.8, 2.5, 2.7, 2.6]\n",
    "\n",
    "mean = np.mean(sample)  # Call mean() correctly\n",
    "std_dev = np.std(sample, ddof=1)  # Use ddof=1 for sample standard deviation\n",
    "n = 14\n",
    "\n",
    "std_error = std_dev / (n ** 0.5)\n",
    "\n",
    "margin_of_error = 1.761 * std_error \n",
    "upper_bound = mean + margin_of_error\n",
    "lower_bound = mean - margin_of_error\n",
    "\n",
    "print(lower_bound, upper_bound)\n"
   ]
  }
 ],
 "metadata": {
  "kernelspec": {
   "display_name": ".venv",
   "language": "python",
   "name": "python3"
  },
  "language_info": {
   "codemirror_mode": {
    "name": "ipython",
    "version": 3
   },
   "file_extension": ".py",
   "mimetype": "text/x-python",
   "name": "python",
   "nbconvert_exporter": "python",
   "pygments_lexer": "ipython3",
   "version": "3.12.1"
  }
 },
 "nbformat": 4,
 "nbformat_minor": 2
}
