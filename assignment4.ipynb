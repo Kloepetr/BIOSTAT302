{
 "cells": [
  {
   "cell_type": "code",
   "execution_count": null,
   "metadata": {},
   "outputs": [
    {
     "name": "stdout",
     "output_type": "stream",
     "text": [
      "68% of the data falls between  9272  and  19496\n",
      "95% of the data falls between  4160 and  24608\n",
      "99.7% of the data falls between  = -952  and  29720\n"
     ]
    }
   ],
   "source": [
    "#1.1find 68-95-99.7 for women\n",
    "mean = 14384\n",
    "SD = 5112\n",
    "\n",
    "one_sd_lower_bound = mean - SD\n",
    "one_sd_upper_bound = mean + SD\n",
    "two_sd_lower_bound = mean - 2*SD\n",
    "two_sd_upper_bound = mean + 2*SD\n",
    "three_sd_lower_bound = mean - 3*SD\n",
    "three_sd_upper_bound = mean + 3*SD\n",
    "\n",
    "\n",
    "print(\"68% of the data falls between \", one_sd_lower_bound, \" and \",one_sd_upper_bound)\n",
    "print(\"95% of the data falls between \", two_sd_lower_bound, \"and \", two_sd_upper_bound)\n",
    "print(\"99.7% of the data falls between  =\", three_sd_lower_bound, \" and \", three_sd_upper_bound)\n"
   ]
  },
  {
   "cell_type": "code",
   "execution_count": null,
   "metadata": {},
   "outputs": [
    {
     "name": "stdout",
     "output_type": "stream",
     "text": [
      "68% of the data falls between  3292  and  20858\n",
      "95% of the data falls between  -5491 and  29641\n",
      "99.7% of the data falls between  = -14274  and  38424\n"
     ]
    }
   ],
   "source": [
    "#1.2: 68-95-99.7 for men word counts\n",
    "mean = 12075\n",
    "SD = 8783\n",
    "\n",
    "one_sd_lower_bound = mean - SD\n",
    "one_sd_upper_bound = mean + SD\n",
    "two_sd_lower_bound = mean - 2*SD\n",
    "two_sd_upper_bound = mean + 2*SD\n",
    "three_sd_lower_bound = mean - 3*SD\n",
    "three_sd_upper_bound = mean + 3*SD\n",
    "\n",
    "\n",
    "print(\"68% of the data falls between \", one_sd_lower_bound, \" and \",one_sd_upper_bound)\n",
    "print(\"95% of the data falls between \", two_sd_lower_bound, \"and \", two_sd_upper_bound)\n",
    "print(\"99.7% of the data falls between  =\", three_sd_lower_bound, \" and \", three_sd_upper_bound)"
   ]
  },
  {
   "cell_type": "code",
   "execution_count": null,
   "metadata": {},
   "outputs": [
    {
     "name": "stdout",
     "output_type": "stream",
     "text": [
      "0.11506967022170822\n",
      "0.0015236408409936772\n"
     ]
    }
   ],
   "source": [
    "#2.1 \n",
    "import scipy.stats as stats\n",
    "\n",
    "mean = 130;\n",
    "stdDev = 25;\n",
    "\n",
    "chance = 1-float(stats.norm.cdf(160, mean, stdDev))\n",
    "print(chance)\n",
    "\n",
    " "
   ]
  },
  {
   "cell_type": "code",
   "execution_count": 36,
   "metadata": {},
   "outputs": [
    {
     "name": "stdout",
     "output_type": "stream",
     "text": [
      "Z-score: 2.0784609690826525\n",
      "Probability: 0.018833461114314387\n"
     ]
    }
   ],
   "source": [
    "# 2.2\n",
    "\n",
    "from scipy import stats\n",
    "\n",
    "n = float(3)\n",
    "ux = float(130)\n",
    "stdDev = 25 / (n ** 0.5)\n",
    "zscore = (160 - ux) / stdDev\n",
    "probability = 1 - stats.norm.cdf(zscore) \n",
    "\n",
    "print(\"Z-score:\", zscore)\n",
    "print(\"Probability:\", probability)\n"
   ]
  },
  {
   "cell_type": "code",
   "execution_count": 35,
   "metadata": {},
   "outputs": [
    {
     "name": "stdout",
     "output_type": "stream",
     "text": [
      "56728.88485064924\n",
      "60055.11514935076\n",
      "0.029043142370817288\n"
     ]
    }
   ],
   "source": [
    "#3.2 and 3.3\n",
    "mean = 58392\n",
    "std_dev = float(6000)\n",
    "n = float(50)\n",
    "se = std_dev / (n**0.5)\n",
    "two_sd_lower_bound = mean - 1.96*se\n",
    "two_sd_upper_bound = mean + 1.96*se\n",
    "\n",
    "print(two_sd_lower_bound)\n",
    "print(two_sd_upper_bound)\n",
    "\n",
    "\n",
    "\n",
    "x = 60000\n",
    "zscore= (x-mean)/se\n",
    "probability = 1 - stats.norm.cdf(zscore) \n",
    "print(probability)"
   ]
  },
  {
   "cell_type": "code",
   "execution_count": 43,
   "metadata": {},
   "outputs": [
    {
     "name": "stdout",
     "output_type": "stream",
     "text": [
      "0.061967902836371214\n",
      "335.65855667130944\n",
      "1.2733173404555487e-09\n"
     ]
    }
   ],
   "source": [
    "#4.1 and 4.2 and 4.3\n",
    "\n",
    "mean = 11000\n",
    "std_dev = float(1300)\n",
    "x = 13000\n",
    "n = 15\n",
    "\n",
    "zscore = (x-mean)/std_dev\n",
    "probability = 1 - stats.norm.cdf(zscore) \n",
    "print(probability)\n",
    "\n",
    "\n",
    "se = std_dev / (n**0.5)\n",
    "print(se)\n",
    "\n",
    "\n",
    "zof15trials = (x-mean)/se\n",
    "probabilityof15trials = 1- stats.norm.cdf(zof15trials)\n",
    "print(probabilityof15trials)"
   ]
  },
  {
   "cell_type": "code",
   "execution_count": 70,
   "metadata": {},
   "outputs": [
    {
     "name": "stdout",
     "output_type": "stream",
     "text": [
      "0.18441991864818585\n",
      "0.9785431025232052\n",
      "0.8958550245803687\n"
     ]
    }
   ],
   "source": [
    "#5.1 and 5.2\n",
    "n =3000\n",
    "mean = 3.67\n",
    "std_dev = float(1.48)\n",
    "\n",
    "\n",
    "x = 5\n",
    "zscoreofx = (x-mean)/std_dev\n",
    "probabilityofx = 1 - stats.norm.cdf(zscoreofx)\n",
    "print(probabilityofx)\n",
    "\n",
    "\n",
    "entire_run = 60 #minutes\n",
    "new_n = 20\n",
    "new_x = entire_run/new_n\n",
    "se = std_dev/(new_n**0.5)\n",
    "zscoreofn = (new_x - mean) / se\n",
    "probablityofnewn = 1-stats.norm.cdf(zscoreofn)\n",
    "print(probablityofnewn)\n",
    "\n",
    "\n",
    "newest_n = 120\n",
    "entire_trip = 420\n",
    "newest_x = entire_trip / newest_n \n",
    "se_trip = std_dev / (newest_n ** 0.5)\n",
    "zscore_of_trip = (newest_x - mean) / se_trip\n",
    "probability_of_trip = 1 - stats.norm.cdf(zscore_of_trip)\n",
    "\n",
    "print(probability_of_trip)"
   ]
  }
 ],
 "metadata": {
  "kernelspec": {
   "display_name": ".venv",
   "language": "python",
   "name": "python3"
  },
  "language_info": {
   "codemirror_mode": {
    "name": "ipython",
    "version": 3
   },
   "file_extension": ".py",
   "mimetype": "text/x-python",
   "name": "python",
   "nbconvert_exporter": "python",
   "pygments_lexer": "ipython3",
   "version": "3.12.1"
  }
 },
 "nbformat": 4,
 "nbformat_minor": 2
}
