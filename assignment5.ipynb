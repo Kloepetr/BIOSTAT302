{
 "cells": [
  {
   "cell_type": "code",
   "execution_count": 11,
   "metadata": {},
   "outputs": [
    {
     "name": "stdout",
     "output_type": "stream",
     "text": [
      "4.613183348955078 6.053483317711588\n"
     ]
    }
   ],
   "source": [
    "# 10.1\n",
    "data = [5.4, 5.2, 4.5, 4.9, 5.7, 6.3]\n",
    "n = float(len(data))\n",
    "mean = sum(data) / n\n",
    "std_dev = 0.9\n",
    "SE = std_dev / (n ** 0.5) \n",
    "ME = 1.96*SE\n",
    "lower_bound = mean - ME  \n",
    "upper_bound = mean + ME\n",
    "print(lower_bound, upper_bound)"
   ]
  },
  {
   "cell_type": "code",
   "execution_count": 19,
   "metadata": {},
   "outputs": [
    {
     "name": "stdout",
     "output_type": "stream",
     "text": [
      "0.28495575798266715\n",
      "0.08199821937374296\n"
     ]
    }
   ],
   "source": [
    "\n",
    "#11.2\n",
    "from scipy.stats import norm\n",
    "\n",
    "x_bar = 2453.7 \n",
    "sample_mean = 2403.7\n",
    "standard_deviation = 880\n",
    "# part 1\n",
    "sample_size = 100\n",
    "sample_standard_deviation = standard_deviation / (sample_size ** 0.5)\n",
    "z_score = (x_bar - sample_mean) / sample_standard_deviation\n",
    "z_probability = norm.cdf(z_score, 0, 1)\n",
    "\n",
    "print(1 - z_probability)\n",
    "\n",
    "# Part 2\n",
    "sample_size = 600\n",
    "sample_standard_deviation = standard_deviation / (sample_size ** 0.5)\n",
    "z_score = (x_bar - sample_mean) / sample_standard_deviation\n",
    "z_probability = norm.cdf(z_score, 0, 1)\n",
    "\n",
    "print(1 - z_probability)\n",
    "\n"
   ]
  },
  {
   "cell_type": "code",
   "execution_count": 22,
   "metadata": {},
   "outputs": [
    {
     "name": "stdout",
     "output_type": "stream",
     "text": [
      "0.05155074849008934\n",
      "0.9484492515099107\n",
      "0.10310149698017868\n"
     ]
    }
   ],
   "source": [
    "#12.1, 12.2, 12.3\n",
    "h_greater=  1 - norm.cdf(1.63, 0, 1)\n",
    "h_smaller = 1 - h_greater\n",
    "h_not_equal = 2 * h_greater\n",
    "\n",
    "print(h_greater)\n",
    "print(h_smaller)\n",
    "print(h_not_equal)\n"
   ]
  },
  {
   "cell_type": "code",
   "execution_count": 23,
   "metadata": {},
   "outputs": [
    {
     "name": "stdout",
     "output_type": "stream",
     "text": [
      "10.001642107850785 10.002957892149215\n"
     ]
    }
   ],
   "source": [
    "#13.1, 13.2 \n",
    "SE = 0.0002/(0.5**0.5)\n",
    "percentile_98 = 2.326\n",
    "mean = 10.0023\n",
    "upper_bound = mean + percentile_98 * SE \n",
    "lower_bound = mean - percentile_98 * SE \n",
    "print(lower_bound, upper_bound)"
   ]
  },
  {
   "cell_type": "code",
   "execution_count": 26,
   "metadata": {},
   "outputs": [
    {
     "name": "stdout",
     "output_type": "stream",
     "text": [
      "0.014229868458155215\n"
     ]
    }
   ],
   "source": [
    "#14.B\n",
    "n = 30\n",
    "SE = 1/(n**0.5)\n",
    "x_bar = 5.2\n",
    "mean = 4.8\n",
    "z_score = (x_bar - mean)/ SE \n",
    "z_probability = norm.cdf(z_score, 0,1)\n",
    "print(1 - z_probability);"
   ]
  }
 ],
 "metadata": {
  "kernelspec": {
   "display_name": ".venv",
   "language": "python",
   "name": "python3"
  },
  "language_info": {
   "codemirror_mode": {
    "name": "ipython",
    "version": 3
   },
   "file_extension": ".py",
   "mimetype": "text/x-python",
   "name": "python",
   "nbconvert_exporter": "python",
   "pygments_lexer": "ipython3",
   "version": "3.12.1"
  }
 },
 "nbformat": 4,
 "nbformat_minor": 2
}
