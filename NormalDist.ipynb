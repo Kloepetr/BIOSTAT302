{
 "cells": [
  {
   "cell_type": "code",
   "execution_count": null,
   "metadata": {
    "collapsed": true
   },
   "outputs": [
    {
     "ename": "ModuleNotFoundError",
     "evalue": "No module named 'scipy'",
     "output_type": "error",
     "traceback": [
      "\u001b[0;31m---------------------------------------------------------------------------\u001b[0m",
      "\u001b[0;31mModuleNotFoundError\u001b[0m                       Traceback (most recent call last)",
      "Cell \u001b[0;32mIn[2], line 1\u001b[0m\n\u001b[0;32m----> 1\u001b[0m \u001b[38;5;28;01mimport\u001b[39;00m \u001b[38;5;21;01mscipy\u001b[39;00m\u001b[38;5;21;01m.\u001b[39;00m\u001b[38;5;21;01mstats\u001b[39;00m \u001b[38;5;28;01mas\u001b[39;00m \u001b[38;5;21;01mstats\u001b[39;00m\n\u001b[1;32m      2\u001b[0m \u001b[38;5;28;01mimport\u001b[39;00m \u001b[38;5;21;01mmatplotlib\u001b[39;00m\u001b[38;5;21;01m.\u001b[39;00m\u001b[38;5;21;01mpyplot\u001b[39;00m \u001b[38;5;28;01mas\u001b[39;00m \u001b[38;5;21;01mplt\u001b[39;00m\n\u001b[1;32m      3\u001b[0m \u001b[38;5;28;01mimport\u001b[39;00m \u001b[38;5;21;01mnumpy\u001b[39;00m \u001b[38;5;28;01mas\u001b[39;00m \u001b[38;5;21;01mnp\u001b[39;00m\n",
      "\u001b[0;31mModuleNotFoundError\u001b[0m: No module named 'scipy'"
     ]
    }
   ],
   "source": [
    "import scipy.stats as stats\n",
    "import matplotlib.pyplot as plt\n",
    "import numpy as np\n",
    "import pandas as pd"
   ]
  },
  {
   "cell_type": "markdown",
   "metadata": {},
   "source": [
    "# Solving Normal Problems with scipy.stats\n",
    "## Calculating $P(X \\leq 4)$ for $X \\sim N(5, 20)$"
   ]
  },
  {
   "cell_type": "code",
   "execution_count": 12,
   "metadata": {},
   "outputs": [
    {
     "data": {
      "text/plain": [
       "0.48006119416162751"
      ]
     },
     "execution_count": 12,
     "metadata": {},
     "output_type": "execute_result"
    }
   ],
   "source": [
    "## using scipy.stats.norm:\n",
    "stats.norm.cdf(4, 5, 20)"
   ]
  },
  {
   "cell_type": "code",
   "execution_count": 20,
   "metadata": {},
   "outputs": [
    {
     "data": {
      "text/plain": [
       "0.48"
      ]
     },
     "execution_count": 20,
     "metadata": {},
     "output_type": "execute_result"
    }
   ],
   "source": [
    "## norm.cdf takes first argument x, second of mean, third of sigma (SD)\n",
    "## recall formatting for printing:\n",
    "float(\"%.2f\" % stats.norm.cdf(4, 5, 20))"
   ]
  },
  {
   "cell_type": "markdown",
   "metadata": {},
   "source": [
    "## Calculating $P(X > 4)$ for $X \\sim N(5, 20)$"
   ]
  },
  {
   "cell_type": "markdown",
   "metadata": {},
   "source": [
    "Using \"1 minus\" rule to obtain $P(X>4)$ from $1-P(X\\leq4)$:"
   ]
  },
  {
   "cell_type": "code",
   "execution_count": 21,
   "metadata": {},
   "outputs": [
    {
     "data": {
      "text/plain": [
       "0.51993880583837249"
      ]
     },
     "execution_count": 21,
     "metadata": {},
     "output_type": "execute_result"
    }
   ],
   "source": [
    "1-stats.norm.cdf(4, 5, 20)"
   ]
  },
  {
   "cell_type": "markdown",
   "metadata": {},
   "source": [
    "## Calculating $P(0<X<4)$ as the difference of $P(X<4)$ and $P(X<0)$:"
   ]
  },
  {
   "cell_type": "code",
   "execution_count": 24,
   "metadata": {},
   "outputs": [
    {
     "data": {
      "text/plain": [
       "0.078767519844551215"
      ]
     },
     "execution_count": 24,
     "metadata": {},
     "output_type": "execute_result"
    }
   ],
   "source": [
    "pg0l4 = stats.norm.cdf(4, 5, 20) - stats.norm.cdf(0, 5, 20)\n",
    "pg0l4"
   ]
  },
  {
   "cell_type": "markdown",
   "metadata": {},
   "source": [
    "# Solving Inverted Normal Problems with scipy.stats\n",
    "## If $X \\sim N(10,2)$, find $x_0$ such that $P(X\\leq x_0)=0.95$"
   ]
  },
  {
   "cell_type": "code",
   "execution_count": 6,
   "metadata": {},
   "outputs": [
    {
     "data": {
      "text/plain": [
       "13.289707253902945"
      ]
     },
     "execution_count": 6,
     "metadata": {},
     "output_type": "execute_result"
    }
   ],
   "source": [
    "## use the inverse of the normal CDF function:\n",
    "stats.norm.ppf(0.95, 10, 2)"
   ]
  },
  {
   "cell_type": "markdown",
   "metadata": {},
   "source": [
    "## Solving problems of the form: $P(-z_0 < Z < z_0) = 0.8$"
   ]
  },
  {
   "cell_type": "markdown",
   "metadata": {},
   "source": [
    "Recall that $P(-z_0 < Z < z_0) = 0.8$ is the same as $2P(Z<z_0)-1=0.8$. Thus, doing a little algebra we have: $P(Z<z_0)=0.9$. The problem has simplified to the form just solved above!"
   ]
  },
  {
   "cell_type": "code",
   "execution_count": 25,
   "metadata": {},
   "outputs": [
    {
     "data": {
      "text/plain": [
       "1.2815515655446004"
      ]
     },
     "execution_count": 25,
     "metadata": {},
     "output_type": "execute_result"
    }
   ],
   "source": [
    "stats.norm.ppf(0.9, 0, 1) ## mean 0, sd 1 (it's a Z!!)"
   ]
  },
  {
   "cell_type": "markdown",
   "metadata": {},
   "source": [
    "# Creating a normal quantile (QQ) Plot in Python"
   ]
  },
  {
   "cell_type": "markdown",
   "metadata": {},
   "source": [
    "Read in heart data:"
   ]
  },
  {
   "cell_type": "code",
   "execution_count": 3,
   "metadata": {
    "collapsed": true
   },
   "outputs": [
    {
     "ename": "NameError",
     "evalue": "name 'pd' is not defined",
     "output_type": "error",
     "traceback": [
      "\u001b[0;31m---------------------------------------------------------------------------\u001b[0m",
      "\u001b[0;31mNameError\u001b[0m                                 Traceback (most recent call last)",
      "Cell \u001b[0;32mIn[3], line 1\u001b[0m\n\u001b[0;32m----> 1\u001b[0m heart \u001b[38;5;241m=\u001b[39m \u001b[43mpd\u001b[49m\u001b[38;5;241m.\u001b[39mread_csv(\u001b[38;5;124m\"\u001b[39m\u001b[38;5;124m/Path/To/heart.csv\u001b[39m\u001b[38;5;124m\"\u001b[39m)\n",
      "\u001b[0;31mNameError\u001b[0m: name 'pd' is not defined"
     ]
    }
   ],
   "source": [
    "heart = pd.read_csv(\"/Path/To/heart.csv\")"
   ]
  },
  {
   "cell_type": "markdown",
   "metadata": {},
   "source": [
    "If you were to print **heart** above, you'll notice that there are NaN values - NaN is a special character meaning Not a Number. This happens because of the form of **heart.csv**. In fact, this csv file contains empty cells for each variable, indicating missing data for some subjects. We need to be careful below to assure that we only use non-missing data in our calculations! We'll use the **pd.DataFrame.dropna()** function to help us with this prior to using **scipy.stats.probplot()**:\n",
    "\n",
    "The **scipy.stats** function **probplot()** with **matplotlib.pyplot** will do it - below is a QQ plot for MDI:\n",
    "\n",
    "Please note that in the below, to obtain the correct calculation of the standard deviation (**SD**), you must set argument **ddof** equal to 1 in the **numpy.std()** function:"
   ]
  },
  {
   "cell_type": "code",
   "execution_count": 1,
   "metadata": {},
   "outputs": [
    {
     "ename": "NameError",
     "evalue": "name 'heart' is not defined",
     "output_type": "error",
     "traceback": [
      "\u001b[0;31m---------------------------------------------------------------------------\u001b[0m",
      "\u001b[0;31mNameError\u001b[0m                                 Traceback (most recent call last)",
      "Cell \u001b[0;32mIn[1], line 2\u001b[0m\n\u001b[1;32m      1\u001b[0m \u001b[38;5;66;03m## create new MDI variable with NaN values dropped\u001b[39;00m\n\u001b[0;32m----> 2\u001b[0m MDInew \u001b[38;5;241m=\u001b[39m \u001b[43mheart\u001b[49m[\u001b[38;5;124m'\u001b[39m\u001b[38;5;124mMDI\u001b[39m\u001b[38;5;124m'\u001b[39m]\u001b[38;5;241m.\u001b[39mdropna()\n\u001b[1;32m      3\u001b[0m stdMDI \u001b[38;5;241m=\u001b[39m (MDInew\u001b[38;5;241m-\u001b[39mnp\u001b[38;5;241m.\u001b[39mmean(MDInew)) \u001b[38;5;241m/\u001b[39m np\u001b[38;5;241m.\u001b[39mstd(MDInew, ddof \u001b[38;5;241m=\u001b[39m \u001b[38;5;241m1\u001b[39m)\n\u001b[1;32m      4\u001b[0m stats\u001b[38;5;241m.\u001b[39mprobplot(stdMDI, plot\u001b[38;5;241m=\u001b[39mplt)\n",
      "\u001b[0;31mNameError\u001b[0m: name 'heart' is not defined"
     ]
    }
   ],
   "source": [
    "## create new MDI variable with NaN values dropped\n",
    "MDInew = heart['MDI'].dropna()\n",
    "stdMDI = (MDInew-np.mean(MDInew)) / np.std(MDInew, ddof = 1)\n",
    "stats.probplot(stdMDI, plot=plt)\n",
    "plt.title(\"Normal Q-Q Plot: MDI\")\n",
    "plt.ylabel(\"Observed Quantiles\")\n",
    "plt.show()"
   ]
  },
  {
   "cell_type": "markdown",
   "metadata": {},
   "source": [
    "Below is the QQ plot for PDI: "
   ]
  },
  {
   "cell_type": "code",
   "execution_count": 28,
   "metadata": {},
   "outputs": [
    {
     "data": {
      "image/png": "[encoded data removed]",
      "text/plain": [
       "<matplotlib.figure.Figure at 0x1128f8320>"
      ]
     },
     "metadata": {},
     "output_type": "display_data"
    }
   ],
   "source": [
    "## standardize the data:\n",
    "PDInew = heart['PDI'].dropna()\n",
    "stdPDI = (PDInew-np.mean(PDInew)) / np.std(PDInew, ddof = 1)\n",
    "stats.probplot(stdPDI, plot=plt)\n",
    "plt.title(\"Normal Q-Q Plot: PDI\")\n",
    "plt.ylabel(\"Observed Quantiles\")\n",
    "plt.show()"
   ]
  }
 ],
 "metadata": {
  "kernelspec": {
   "display_name": "Python 3",
   "language": "python",
   "name": "python3"
  },
  "language_info": {
   "codemirror_mode": {
    "name": "ipython",
    "version": 3
   },
   "file_extension": ".py",
   "mimetype": "text/x-python",
   "name": "python",
   "nbconvert_exporter": "python",
   "pygments_lexer": "ipython3",
   "version": "3.12.1"
  }
 },
 "nbformat": 4,
 "nbformat_minor": 2
}
